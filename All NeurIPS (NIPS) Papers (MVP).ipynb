{
 "cells": [
  {
   "cell_type": "code",
   "execution_count": null,
   "id": "33df67d6",
   "metadata": {},
   "outputs": [],
   "source": [
    "conda install -c conda-forge wordcloud"
   ]
  },
  {
   "cell_type": "code",
   "execution_count": null,
   "id": "cadf9878",
   "metadata": {},
   "outputs": [],
   "source": [
    "import numpy as np\n",
    "import pandas as pd\n",
    "import matplotlib.pyplot as plt\n",
    "from sklearn import datasets\n",
    "import seaborn as sns\n",
    "from PIL import Image\n",
    "from wordcloud import WordCloud, STOPWORDS, ImageColorGenerator \n",
    "authors_data =pd.read_csv(r'C:\\Users\\user\\Desktop\\EDA PROJECT\\authors.csv')\n",
    "papers_data =pd.read_csv(r'C:\\Users\\user\\Desktop\\EDA PROJECT\\papers.csv')\n",
    "\n",
    "\n"
   ]
  },
  {
   "cell_type": "code",
   "execution_count": null,
   "id": "dd13abca",
   "metadata": {},
   "outputs": [],
   "source": [
    "authors_data.info"
   ]
  },
  {
   "cell_type": "code",
   "execution_count": null,
   "id": "837fb683",
   "metadata": {},
   "outputs": [],
   "source": [
    "papers_data.info"
   ]
  },
  {
   "cell_type": "code",
   "execution_count": null,
   "id": "5e532892",
   "metadata": {},
   "outputs": [],
   "source": [
    "authors_data"
   ]
  },
  {
   "cell_type": "code",
   "execution_count": null,
   "id": "4f900464",
   "metadata": {},
   "outputs": [],
   "source": [
    "papers_data"
   ]
  },
  {
   "cell_type": "code",
   "execution_count": null,
   "id": "bf531b23",
   "metadata": {},
   "outputs": [],
   "source": [
    "authors_data.describe()"
   ]
  },
  {
   "cell_type": "code",
   "execution_count": null,
   "id": "4ef32102",
   "metadata": {},
   "outputs": [],
   "source": [
    "papers_data.describe()"
   ]
  },
  {
   "cell_type": "code",
   "execution_count": null,
   "id": "46f47aaf",
   "metadata": {},
   "outputs": [],
   "source": [
    "authors_data.dtypes\n"
   ]
  },
  {
   "cell_type": "code",
   "execution_count": null,
   "id": "ebd73d32",
   "metadata": {},
   "outputs": [],
   "source": [
    "papers_data.dtypes\n"
   ]
  },
  {
   "cell_type": "code",
   "execution_count": null,
   "id": "0acd32e2",
   "metadata": {},
   "outputs": [],
   "source": [
    "authors_data.isna().sum()\n"
   ]
  },
  {
   "cell_type": "code",
   "execution_count": null,
   "id": "ffaa3e78",
   "metadata": {},
   "outputs": [],
   "source": [
    "papers_data.isna().sum()"
   ]
  },
  {
   "cell_type": "code",
   "execution_count": null,
   "id": "46ce6449",
   "metadata": {},
   "outputs": [],
   "source": [
    "# replacing na values\n",
    "authors_data[\"institution\"].fillna(\"No institution\", inplace = True)\n",
    "authors_data[\"first_name\"].fillna(\"some one\", inplace = True)\n",
    "authors_data[\"last_name\"].fillna(\"some one\", inplace = True)"
   ]
  },
  {
   "cell_type": "code",
   "execution_count": null,
   "id": "d51235f4",
   "metadata": {},
   "outputs": [],
   "source": [
    "authors_data.isna().sum()\n"
   ]
  },
  {
   "cell_type": "code",
   "execution_count": null,
   "id": "f0137fd2",
   "metadata": {},
   "outputs": [],
   "source": [
    "# replacing na values \n",
    "papers_data['full_text'].fillna(\"no full_text \", inplace = True)\n",
    "papers_data['abstract'].fillna(\"no abstract \", inplace = True)\n"
   ]
  },
  {
   "cell_type": "code",
   "execution_count": null,
   "id": "141d4804",
   "metadata": {},
   "outputs": [],
   "source": [
    "papers_data.isna().sum()"
   ]
  },
  {
   "cell_type": "code",
   "execution_count": null,
   "id": "484482bd",
   "metadata": {},
   "outputs": [],
   "source": [
    "sns.pairplot(papers_data);"
   ]
  },
  {
   "cell_type": "code",
   "execution_count": null,
   "id": "786363b9",
   "metadata": {},
   "outputs": [],
   "source": [
    "boolean =  papers_data[\"title\"].is_unique      # True (credit to @Carsten)\n",
    "boolean"
   ]
  },
  {
   "cell_type": "code",
   "execution_count": null,
   "id": "715714c7",
   "metadata": {
    "scrolled": true
   },
   "outputs": [],
   "source": [
    "#Q1 \\ find all paper write in 2019 ?\n",
    "paper_title_2019= papers_data.loc[papers_data['year'] == 2019]\n",
    "paper_title_2019"
   ]
  },
  {
   "cell_type": "code",
   "execution_count": null,
   "id": "8833f354",
   "metadata": {},
   "outputs": [],
   "source": [
    "# Q2 \\ find the most famous authors\n",
    "\n",
    "n = 1\n",
    "most_famous_authors= authors_data['first_name'].value_counts()[:n].index.tolist()\n",
    "print('The most famous author Write about NIPS is :',most_famous_authors)"
   ]
  },
  {
   "cell_type": "code",
   "execution_count": null,
   "id": "e4db73b7",
   "metadata": {},
   "outputs": [],
   "source": [
    "#Generating WordClouds in Python\n",
    "n = 8\n",
    "most_famous_authors= authors_data['first_name'].value_counts()[:n].index.tolist()\n",
    "str1 = '  '.join(str(e) for e in most_famous_authors)\n",
    "\n",
    "# Start with one review:\n",
    "text = str1\n",
    "\n",
    "# Create and generate a word cloud image:\n",
    "wordcloud = WordCloud().generate(text)\n",
    "\n",
    "# Display the generated image:\n",
    "wordcloud = WordCloud(max_font_size=50, max_words=100, background_color=\"white\").generate(text)\n",
    "plt.figure()\n",
    "plt.imshow(wordcloud, interpolation='bilinear')\n",
    "plt.axis(\"off\")\n",
    "plt.show()"
   ]
  },
  {
   "cell_type": "code",
   "execution_count": null,
   "id": "657e2e5a",
   "metadata": {},
   "outputs": [],
   "source": []
  },
  {
   "cell_type": "code",
   "execution_count": null,
   "id": "1e3f3cce",
   "metadata": {},
   "outputs": [],
   "source": [
    "# Q3 \\ find how many paper write in every year\n",
    "num_paper_inyear= papers_data['year'].value_counts()\n",
    "sns.barplot(x =num_paper_inyear,y=num_paper_inyear,data=num_paper_inyear);\n"
   ]
  },
  {
   "cell_type": "code",
   "execution_count": null,
   "id": "fe71f51e",
   "metadata": {},
   "outputs": [],
   "source": [
    "# Q3 \\ find how many paper write in every year\n",
    "num_paper_inyear= papers_data['year'].value_counts()\n",
    "papers_data\n",
    "newdata= pd.DataFrame(num_paper_inyear)                            \n",
    "newdata.columns.values[0] ='total'\n",
    "newdata\n"
   ]
  },
  {
   "cell_type": "code",
   "execution_count": null,
   "id": "8bd8d9b1",
   "metadata": {},
   "outputs": [],
   "source": [
    "#sns.kdeplot(newdata['total']);\n",
    "sns.barplot(x = 'total',y='year',data=newdata);\n"
   ]
  },
  {
   "cell_type": "code",
   "execution_count": null,
   "id": "67453740",
   "metadata": {},
   "outputs": [],
   "source": [
    "sns.histplot(newdata['total'],bins=8 ,kde=False);"
   ]
  },
  {
   "cell_type": "code",
   "execution_count": null,
   "id": "f76a1578",
   "metadata": {},
   "outputs": [],
   "source": [
    "#Q4/ filtering the rows where paper abstract is about computer vision\n",
    "df = papers_data[papers_data['abstract'].str.contains('computer vision')]\n",
    "print(df)\n",
    "papers_data['abstract'].str.contains(\" computer vision\").sum()"
   ]
  },
  {
   "cell_type": "code",
   "execution_count": null,
   "id": "4b023fc0",
   "metadata": {},
   "outputs": [],
   "source": [
    "df = papers_data[papers_data['abstract'].str.contains('computer vision')]\n",
    "#print(df.title)\n",
    "tolist=df.title.tolist()\n",
    "#type(df)\n",
    "str1 = '  '.join(str(e) for e in tolist)\n",
    "\n",
    "# Start with one review:\n",
    "text = str1\n",
    "\n",
    "# Create and generate a word cloud image:\n",
    "wordcloud = WordCloud().generate(text)\n",
    "\n",
    "# Display the generated image:\n",
    "wordcloud = WordCloud(max_font_size=1000, max_words=600, background_color=\"white\").generate(text)\n",
    "plt.figure()\n",
    "plt.imshow(wordcloud, interpolation='bilinear')\n",
    "plt.axis(\"off\")\n",
    "plt.show()"
   ]
  },
  {
   "cell_type": "code",
   "execution_count": null,
   "id": "a198dd9b",
   "metadata": {},
   "outputs": [],
   "source": []
  },
  {
   "cell_type": "code",
   "execution_count": null,
   "id": "36e23d64",
   "metadata": {},
   "outputs": [],
   "source": []
  },
  {
   "cell_type": "code",
   "execution_count": null,
   "id": "0e885750",
   "metadata": {},
   "outputs": [],
   "source": []
  },
  {
   "cell_type": "code",
   "execution_count": null,
   "id": "168b38b5",
   "metadata": {},
   "outputs": [],
   "source": []
  },
  {
   "cell_type": "code",
   "execution_count": null,
   "id": "097bc80b",
   "metadata": {},
   "outputs": [],
   "source": []
  }
 ],
 "metadata": {
  "kernelspec": {
   "display_name": "Python 3",
   "language": "python",
   "name": "python3"
  },
  "language_info": {
   "codemirror_mode": {
    "name": "ipython",
    "version": 3
   },
   "file_extension": ".py",
   "mimetype": "text/x-python",
   "name": "python",
   "nbconvert_exporter": "python",
   "pygments_lexer": "ipython3",
   "version": "3.8.8"
  }
 },
 "nbformat": 4,
 "nbformat_minor": 5
}
